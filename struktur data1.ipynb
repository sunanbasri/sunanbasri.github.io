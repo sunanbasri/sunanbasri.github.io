{
 "cells": [
  {
   "cell_type": "code",
   "execution_count": 0,
   "metadata": {
    "collapsed": false
   },
   "outputs": [
   ],
   "source": [
    "stack (tumpukan)\n",
    "\n",
    "- stack bersifat lifo (last in first out) artinya yang paling akhir masuk akan jadi yang paling awal keluar\n",
    "\n",
    "- stack() inisialisasi\n",
    "- push(data) penambahan data\n",
    "- pop() penghapusan data yng terdapat diposisi top\n",
    "- isEmpty: mengecek apakah stack sudah kosong\n",
    "- peek: informasi data yg terletak pada posisi top\n",
    "- size: informasi jumlah data yg tedapat pada stack\n"
   ]
  },
  {
   "cell_type": "code",
   "execution_count": 0,
   "metadata": {
    "collapsed": false
   },
   "outputs": [
   ],
   "source": [
    "def stack():\n",
    "    s=[]\n",
    "    return(s)\n",
    "def push(s,data):\n",
    "    s.append(data)\n",
    "def pop(s):\n",
    "    data=s.pop()\n",
    "    return(data)\n",
    "def peek (s):\n",
    "    return(s[len(s)-1])\n",
    "def isEmpty(s):\n",
    "    return (s==[])\n",
    "def size (s):\n",
    "    return (len(s))"
   ]
  },
  {
   "cell_type": "code",
   "execution_count": 0,
   "metadata": {
    "collapsed": false
   },
   "outputs": [
   ],
   "source": [
    "program pembalik kata"
   ]
  },
  {
   "cell_type": "code",
   "execution_count": 0,
   "metadata": {
    "collapsed": false
   },
   "outputs": [
   ],
   "source": [
    "def balik (teks):\n",
    "    a= stack()\n",
    "    for i in range(len(teks)):\n",
    "        push(a,teks[i])\n",
    "    hasil=''\n",
    "    for i in range (len(teks)):\n",
    "        hasil=hasil+pop(a)\n",
    "    return hasil\n",
    "print(balik('arek'))\n"
   ]
  },
  {
   "cell_type": "code",
   "execution_count": 0,
   "metadata": {
    "collapsed": false
   },
   "outputs": [
   ],
   "source": [
    "ekspresi aritmatik infix, prefix dan postfix:\n",
    "\n",
    "- (A+B)xC ==> prefix= *+ABC postfix AB+C*\n",
    "- (A+B)*(C+D)==> prefix *+AB+CD postfix AB+CD+*\n",
    "- A+B*C ==> pre +A*BC post ABC*+\n",
    "- A*B-C*D ==> prefix -*AB*CD postfix AB*CD*-\n",
    "- Ax(B+C) post ABC+x\n",
    "- A+B*C postfix ABC*+"
   ]
  }
 ],
 "metadata": {
  "kernelspec": {
   "display_name": "Python 3 (Anaconda 5)",
   "language": "python",
   "name": "anaconda5"
  },
  "language_info": {
   "codemirror_mode": {
    "name": "ipython",
    "version": 3
   },
   "file_extension": ".py",
   "mimetype": "text/x-python",
   "name": "python",
   "nbconvert_exporter": "python",
   "pygments_lexer": "ipython3",
   "version": "3.6.6"
  }
 },
 "nbformat": 4,
 "nbformat_minor": 0
}