{
 "cells": [
  {
   "cell_type": "raw",
   "metadata": {
    "collapsed": false
   },
   "source": [
    "stack (tumpukan)\n",
    "\n",
    "Stack bersifat lifo (last in first out) artinya yang paling akhir masuk stack akan menjadi paling awal keluar\n",
    "stack() inisialisasi\n",
    "push(data) penambahan data\n",
    "pop() penghapusan data yng terdapat diposisi top\n",
    "\n",
    "delimeter matching:\n",
    "1 baca setiap karakter yang ada pada suatu string matematika\n",
    "2. jika karakter adalah kurung buka maka saya masukkan \n"
   ]
  },
  {
   "cell_type": "raw",
   "metadata": {
    "collapsed": false
   },
   "source": [
   ]
  }
 ],
 "metadata": {
  "kernelspec": {
   "display_name": "SageMath (stable)",
   "language": "sagemath",
   "name": "sagemath"
  },
  "language_info": {
   "codemirror_mode": {
    "name": "ipython",
    "version": 2
   },
   "file_extension": ".py",
   "mimetype": "text/x-python",
   "name": "python",
   "nbconvert_exporter": "python",
   "pygments_lexer": "ipython2",
   "version": "2.7.15"
  }
 },
 "nbformat": 4,
 "nbformat_minor": 0
}