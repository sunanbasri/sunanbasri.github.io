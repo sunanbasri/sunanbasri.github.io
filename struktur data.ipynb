{
 "cells": [
  {
   "cell_type": "raw",
   "metadata": {
    "collapsed": false
   },
   "source": [
    "stack (tumpukan)\n",
    "\n",
    "lifo (last in first out) artinya yang paling akhir masuk akan jadi yang paling awal keluar\n",
    "\n",
    "- stack() inisialisasi\n",
    "- push(data) penambahan data\n",
    "- pop() penghapusan data yng terdapat diposisi top\n",
    "- isEmpty: mengecek apakah stack sudah kosong\n",
    "- peek: informasi data yg terletak pada posisi top\n",
    "- size: informasi jumlah data yg tedapat pada stack\n"
   ]
  },
  {
   "cell_type": "raw",
   "metadata": {
    "collapsed": false
   },
   "source": [
   ]
  }
 ],
 "metadata": {
  "kernelspec": {
   "display_name": "SageMath (stable)",
   "language": "sagemath",
   "name": "sagemath"
  }
 },
 "nbformat": 4,
 "nbformat_minor": 0
}