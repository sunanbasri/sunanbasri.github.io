{
 "cells": [
  {
   "cell_type": "code",
   "execution_count": 0,
   "metadata": {
    "collapsed": false
   },
   "outputs": [
   ],
   "source": [
    "Queues\n",
    "queus atau antrian merupakan struktur data dimana penambahan data baru dan penghapusan data diujung yang berbeda.\n",
    "konsep dari queques yaitu fifo(first in out dirst) artinya data yang masuk paling awal dia yang paling awal keluar.\n",
    "front depan\n",
    "rear belakang\n",
    "enqueu menambah data\n",
    "dequeu menghapus data"
   ]
  },
  {
   "cell_type": "code",
   "execution_count": 0,
   "metadata": {
    "collapsed": false
   },
   "outputs": [
   ],
   "source": [
    "def createQueue():\n",
    "    q=[]\n",
    "    return (q)\n",
    "def enqueue(q,data):\n",
    "    q.insert(0,data)\n",
    "    return (q)\n",
    "def dequeue(q):\n",
    "    data=q.pop()\n",
    "    return (data)\n",
    "def isEmpty(q):\n",
    "    return (q==[])\n",
    "def size(q):\n",
    "    return (len(q))"
   ]
  },
  {
   "cell_type": "code",
   "execution_count": 0,
   "metadata": {
    "collapsed": false
   },
   "outputs": [
   ],
   "source": [
    "q=createQueue()"
   ]
  },
  {
   "cell_type": "code",
   "execution_count": 0,
   "metadata": {
    "collapsed": false
   },
   "outputs": [
   ],
   "source": [
    "enqueue(q,\"matematika\")\n",
    "enqueue(q,\"struktur data\")\n",
    "enqueue(q,\"bahasa inggris\")\n",
    "enqueue (q,\"peemrograman Web\")\n",
    "print (q)"
   ]
  },
  {
   "cell_type": "code",
   "execution_count": 0,
   "metadata": {
    "collapsed": false
   },
   "outputs": [
   ],
   "source": [
    "q=[\"a\",\"b\",\"c\",\"d\"]\n",
    "li= int(input(\"masukkan berapa perulangan\"))\n",
    "def ularnaga(q):\n",
    "    for i in range (li):\n",
    "        temp=dequeue(q)\n",
    "        enqueue(q,temp)\n",
    "        print(q)\n",
    "    hapus=dequeue(q)\n",
    "    print(hapus)\n",
    "    return (q)\n",
    "\n",
    "print (ularnaga(q))"
   ]
  },
  {
   "cell_type": "code",
   "execution_count": 0,
   "metadata": {
    "collapsed": false
   },
   "outputs": [
   ],
   "source": [
    "dequeue(dek)\n",
    "dequeue(dek) hampir sama dengan queues bedanya terletak pada penambahan atau pengurangan yang bisa dilakukan pada kedua ujung.\n",
    "\n",
    "dequeue(): inisialisasi\n",
    "addfront(data) penambahan data baru di front\n",
    "addrear(data) penambahan data baru di rear\n",
    "removeRear() penghapusan data di rear\n",
    "removeFront() penghapusan data di front\n",
    "isEmpty() mengecek apakah deque dalam keadaan kosong\n",
    "size() informasi jumlah data yang ada pada deque\n",
    "deque(): inisialisasi\n",
    "addfront(data): penambahan data baru di front\n",
    "addrear(data): penambahan data baru di rear\n",
    "removeRear(): penghapusan data di rear\n",
    "removeFront(): penghapusan data di front\n",
    "isEmpty(): mengecek apakah deque dalam keadaan kosong\n",
    "size(): informasi jumlah data yang ada pada deque"
   ]
  },
  {
   "cell_type": "code",
   "execution_count": 0,
   "metadata": {
    "collapsed": false
   },
   "outputs": [
   ],
   "source": [
    "def createDeque():\n",
    "    d=[]\n",
    "    return(d)\n",
    "def addFront(d,data):\n",
    "    d.insert(0,data)\n",
    "    return(d)\n",
    "def addRear(d,data):\n",
    "    d.append(data)\n",
    "    return(d)\n",
    "def removeRear(d):\n",
    "    data=d.pop()\n",
    "    return(data)\n",
    "def removeFront(d):\n",
    "    data=d.pop(0)\n",
    "    return(data)"
   ]
  },
  {
   "cell_type": "code",
   "execution_count": 0,
   "metadata": {
    "collapsed": false
   },
   "outputs": [
   ],
   "source": [
    "deq=createDeque()"
   ]
  },
  {
   "cell_type": "code",
   "execution_count": 0,
   "metadata": {
    "collapsed": false
   },
   "outputs": [
   ],
   "source": [
    "addFront(deq,\"struktur data\")"
   ]
  },
  {
   "cell_type": "code",
   "execution_count": 0,
   "metadata": {
    "collapsed": false
   },
   "outputs": [
   ],
   "source": [
    "pal=[\"i\",\"k\",\"i\"]\n",
    "pal2=[\"i\",\"k\",\"i\"]\n",
    "def palindrome(pal):\n",
    "    for i in range (len(pal)):\n",
    "        temp=removeRear(pal)\n",
    "        hasil=removeFront(pal2)\n",
    "    print(temp)\n",
    "    print(hasil)\n",
    "    if hasil==temp:\n",
    "        pali=\"palindrome\"\n",
    "        return pali\n",
    "    else :\n",
    "        palin=\"tidak palindrome\"\n",
    "        return palin\n",
    "print(palindrome(pal))"
   ]
  },
  {
   "cell_type": "code",
   "execution_count": 0,
   "metadata": {
    "collapsed": false
   },
   "outputs": [
   ],
   "source": [
    "#class\n",
    "class, tipe data yang tidak hanya berisi data tetapi juga method\n",
    "objek, suatu variabel dengan tipe data class\n",
    "state, property, bagian dari class yng berisi nilai berupa string integer atau float\n",
    "method, fungsi yang melekat pada class"
   ]
  },
  {
   "cell_type": "code",
   "execution_count": 0,
   "metadata": {
    "collapsed": false
   },
   "outputs": [
   ],
   "source": [
    "a=Bilangankompleks() #instansiasi\n",
    "class Bilangankompleks:\n",
    "\tdef__init__(): #constructor\n",
    "\tdef namaMethod(): #method"
   ]
  },
  {
   "cell_type": "code",
   "execution_count": 0,
   "metadata": {
    "collapsed": false
   },
   "outputs": [
   ],
   "source": [
    "class Bilangankompleks:\n",
    "    def __init__(self,a,b):\n",
    "        self.real=a\n",
    "        self.im=b\n",
    "    def display(self):\n",
    "        print(self.real,\"-\",self.im,\"i\")\n",
    "    def display2(self):\n",
    "        temp=str(self.real)+\"+\"+str(self.im)+\"i\"\n",
    "        return temp\n",
    "    def __str__(self):\n",
    "        return str(self.real)+\"+\"+str(self.im)+\"i\"\n",
    "    def addNum(self,a,b):\n",
    "        self.real=a.real+b.real\n",
    "        self.im=b.im+b.im\n",
    "    def __add__(self):\n",
    "        self.real=a.real+b.real\n",
    "        self.im=a.im+b.im"
   ]
  },
  {
   "cell_type": "code",
   "execution_count": 0,
   "metadata": {
    "collapsed": false
   },
   "outputs": [
   ],
   "source": [
    "data=Bilangankompleks(4,6)\n",
    "data.display()"
   ]
  },
  {
   "cell_type": "code",
   "execution_count": 0,
   "metadata": {
    "collapsed": false
   },
   "outputs": [
   ],
   "source": [
    "data=Bilangankompleks(4,6)\n",
    "data.display2()"
   ]
  },
  {
   "cell_type": "code",
   "execution_count": 0,
   "metadata": {
    "collapsed": false
   },
   "outputs": [
   ],
   "source": [
    "data1=Bilangankompleks(4,6)\n",
    "data2=Bilangankompleks(2,5)\n",
    "print(data1)"
   ]
  },
  {
   "cell_type": "code",
   "execution_count": 0,
   "metadata": {
    "collapsed": false
   },
   "outputs": [
   ],
   "source": [
    "a=Bilangankompleks(4,6)\n",
    "b=Bilangankompleks(3,2)\n",
    "print(a)\n",
    "print(b)\n",
    "data3=Bilangankompleks(0,0)\n",
    "data3.addNum(a,b)\n",
    "print(data3)"
   ]
  },
  {
   "cell_type": "code",
   "execution_count": 9,
   "metadata": {
    "collapsed": false
   },
   "outputs": [
   ],
   "source": [
    "class BilanganKompleks:\n",
    "    def __init__(self,r,i,i2=0):\n",
    "        self.real=r\n",
    "        self.im=i\n",
    "        self.im2=i2\n",
    "    def display(self):\n",
    "        print(self.real,'+',self.im,'i')\n",
    "    def __str__(self):\n",
    "        return str(self.im2)+'i^'+'+'+str(self.im)+'i'+'+'+str(self.real)\n",
    "    def addNum(self,num1,num2):\n",
    "        self.real=num1.real+num2.real\n",
    "        self.im=num1.im+num2.im\n",
    "    def addNum2(self,num):\n",
    "        self.real=self.real+num.real\n",
    "        self.im=self.im+num.im\n",
    "    def addKompleks(self,obj):\n",
    "        a=self.real+obj.real\n",
    "        b=self.im+obj.im\n",
    "        return BilanganKompleks(a,b)\n",
    "    def __mul__(self,other):\n",
    "        return BilanganKompleks(self.im*other.im, self.real*other.im+self.real*other.im, self.real*other.real)"
   ]
  },
  {
   "cell_type": "code",
   "execution_count": 11,
   "metadata": {
    "collapsed": false
   },
   "outputs": [
    {
     "name": "stdout",
     "output_type": "stream",
     "text": [
      "6i^+8i+2\n"
     ]
    }
   ],
   "source": [
    "data1=BilanganKompleks(2,1)\n",
    "data2=BilanganKompleks(3,2)\n",
    "data3=data1*data2\n",
    "print(data3)"
   ]
  },
  {
   "cell_type": "code",
   "execution_count": 0,
   "metadata": {
    "collapsed": false
   },
   "outputs": [
   ],
   "source": [
   ]
  }
 ],
 "metadata": {
  "kernelspec": {
   "display_name": "Python 3 (Anaconda 5)",
   "language": "python",
   "name": "anaconda5"
  },
  "language_info": {
   "codemirror_mode": {
    "name": "ipython",
    "version": 3
   },
   "file_extension": ".py",
   "mimetype": "text/x-python",
   "name": "python",
   "nbconvert_exporter": "python",
   "pygments_lexer": "ipython3",
   "version": "3.6.6"
  }
 },
 "nbformat": 4,
 "nbformat_minor": 0
}