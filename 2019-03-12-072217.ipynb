{
 "cells": [
  {
   "cell_type": "code",
   "execution_count": 5,
   "metadata": {
    "collapsed": false
   },
   "outputs": [
   ],
   "source": [
    "def createQueue():\n",
    "    q=[]\n",
    "    return (q)\n",
    "def enqueue(q,data):\n",
    "    q.insert(0,data)\n",
    "    return (q)\n",
    "def dequeue(q):\n",
    "    data=q.pop()\n",
    "    return (data)\n",
    "def isEmpty(q):\n",
    "    return (q==[])\n",
    "def size(q):\n",
    "    return (len(q))"
   ]
  },
  {
   "cell_type": "code",
   "execution_count": 6,
   "metadata": {
    "collapsed": false
   },
   "outputs": [
   ],
   "source": [
    "q=createQueue()"
   ]
  },
  {
   "cell_type": "code",
   "execution_count": 7,
   "metadata": {
    "collapsed": false
   },
   "outputs": [
    {
     "name": "stdout",
     "output_type": "stream",
     "text": [
      "['peemrograman Web', 'bahasa inggris', 'struktur data', 'matematika']\n"
     ]
    }
   ],
   "source": [
    "enqueue(q,\"matematika\")\n",
    "enqueue(q,\"struktur data\")\n",
    "enqueue(q,\"bahasa inggris\")\n",
    "enqueue (q,\"peemrograman Web\")\n",
    "print (q)"
   ]
  },
  {
   "cell_type": "code",
   "execution_count": 41,
   "metadata": {
    "cocalc": {
     "outputs": {
      "0": {
       "name": "input",
       "opts": {
        "password": false,
        "prompt": "masukkan berapa perulangan"
       },
       "output_type": "stream",
       "value": "3"
      }
     }
    },
    "collapsed": false
   },
   "outputs": [
    {
     "name": "stdout",
     "output_type": "stream",
     "text": "masukkan berapa perulangan 3"
    },
    {
     "name": "stdout",
     "output_type": "stream",
     "text": [
      "['d', 'a', 'b', 'c']\n",
      "['c', 'd', 'a', 'b']\n",
      "['b', 'c', 'd', 'a']\n",
      "a\n",
      "['b', 'c', 'd']\n"
     ]
    }
   ],
   "source": [
    "q=[\"a\",\"b\",\"c\",\"d\"]\n",
    "li= int(input(\"masukkan berapa perulangan\"))\n",
    "def ularnaga(q):\n",
    "    for i in range (li):\n",
    "        temp=dequeue(q)\n",
    "        enqueue(q,temp)\n",
    "        print(q)\n",
    "    hapus=dequeue(q)\n",
    "    print(hapus)\n",
    "    return (q)\n",
    "\n",
    "print (ularnaga(q))"
   ]
  },
  {
   "cell_type": "code",
   "execution_count": 48,
   "metadata": {
    "collapsed": false
   },
   "outputs": [
   ],
   "source": [
    "def createDeque():\n",
    "    d=[]\n",
    "    return(d)\n",
    "def addFront(d,data):\n",
    "    d.insert(0,data)\n",
    "    return(d)\n",
    "def addRear(d,data):\n",
    "    d.append(data)\n",
    "    return(d)\n",
    "def removeRear(d):\n",
    "    data=d.pop()\n",
    "    return(data)\n",
    "def removeFront(d):\n",
    "    data=d.pop(0)\n",
    "    return(data)"
   ]
  },
  {
   "cell_type": "code",
   "execution_count": 49,
   "metadata": {
    "collapsed": false
   },
   "outputs": [
   ],
   "source": [
    "deq=createDeque()"
   ]
  },
  {
   "cell_type": "code",
   "execution_count": 50,
   "metadata": {
    "collapsed": false
   },
   "outputs": [
    {
     "data": {
      "text/plain": [
       "['struktur data']"
      ]
     },
     "execution_count": 50,
     "metadata": {
     },
     "output_type": "execute_result"
    }
   ],
   "source": [
    "addFront(deq,\"struktur data\")"
   ]
  },
  {
   "cell_type": "code",
   "execution_count": 53,
   "metadata": {
    "collapsed": false
   },
   "outputs": [
    {
     "name": "stdout",
     "output_type": "stream",
     "text": [
      "i\n",
      "i\n",
      "palindrome\n"
     ]
    }
   ],
   "source": [
    "pal=[\"i\",\"k\",\"i\"]\n",
    "pal2=[\"i\",\"k\",\"i\"]\n",
    "def palindrome(pal):\n",
    "    for i in range (len(pal)):\n",
    "        temp=removeRear(pal)\n",
    "        hasil=removeFront(pal2)\n",
    "    print(temp)\n",
    "    print(hasil)\n",
    "    if hasil==temp:\n",
    "        pali=\"palindrome\"\n",
    "        return pali\n",
    "    else :\n",
    "        palin=\"tidak palindrome\"\n",
    "        return palin\n",
    "print(palindrome(pal))"
   ]
  },
  {
   "cell_type": "code",
   "execution_count": 54,
   "metadata": {
    "collapsed": false
   },
   "outputs": [
   ],
   "source": [
    "class Bilangankompleks:\n",
    "    def __init__(self,a,b):\n",
    "        self.real=a\n",
    "        self.im=b\n",
    "    def display(self):\n",
    "        print(self.real,\"-\",self.im,\"i\")\n",
    "    def display2(self):\n",
    "        temp=str(self.real)+\"+\"+str(self.im)+\"i\"\n",
    "        return temp\n",
    "    def __str__(self):\n",
    "        return str(self.real)+\"+\"+str(self.im)+\"i\"\n",
    "    def addNum(self,a,b):\n",
    "        self.real=a.real+b.real\n",
    "        self.im=b.im+b.im\n",
    "    def __add__(self):\n",
    "        self.real=a.real+b.real\n",
    "        self.im=a.im+b.im"
   ]
  },
  {
   "cell_type": "code",
   "execution_count": 55,
   "metadata": {
    "collapsed": false
   },
   "outputs": [
    {
     "name": "stdout",
     "output_type": "stream",
     "text": [
      "4 - 6 i\n"
     ]
    }
   ],
   "source": [
    "data=Bilangankompleks(4,6)\n",
    "data.display()"
   ]
  },
  {
   "cell_type": "code",
   "execution_count": 56,
   "metadata": {
    "collapsed": false
   },
   "outputs": [
    {
     "data": {
      "text/plain": [
       "'4+6i'"
      ]
     },
     "execution_count": 56,
     "metadata": {
     },
     "output_type": "execute_result"
    }
   ],
   "source": [
    "data=Bilangankompleks(4,6)\n",
    "data.display2()"
   ]
  },
  {
   "cell_type": "code",
   "execution_count": 57,
   "metadata": {
    "collapsed": false
   },
   "outputs": [
    {
     "name": "stdout",
     "output_type": "stream",
     "text": [
      "4+6i\n"
     ]
    }
   ],
   "source": [
    "data1=Bilangankompleks(4,6)\n",
    "data2=Bilangankompleks(2,5)\n",
    "print(data1)"
   ]
  },
  {
   "cell_type": "code",
   "execution_count": 58,
   "metadata": {
    "collapsed": false
   },
   "outputs": [
    {
     "name": "stdout",
     "output_type": "stream",
     "text": [
      "4+6i\n",
      "3+2i\n",
      "7+4i\n"
     ]
    }
   ],
   "source": [
    "a=Bilangankompleks(4,6)\n",
    "b=Bilangankompleks(3,2)\n",
    "print(a)\n",
    "print(b)\n",
    "data3=Bilangankompleks(0,0)\n",
    "data3.addNum(a,b)\n",
    "print(data3)\n"
   ]
  },
  {
   "cell_type": "code",
   "execution_count": 0,
   "metadata": {
    "collapsed": false
   },
   "outputs": [
   ],
   "source": [
   ]
  },
  {
   "cell_type": "code",
   "execution_count": 62,
   "metadata": {
    "collapsed": false
   },
   "outputs": [
   ],
   "source": [
    "class Bilangankompleks:\n",
    "    def __init__(self,a,b):\n",
    "        self.real=a\n",
    "        self.im=b\n",
    "    def display(self):\n",
    "        print(self.real,\"-\",self.im,\"i\")\n",
    "    def display2(self):\n",
    "        temp=str(self.real)+\"+\"+str(self.im)+\"i\"\n",
    "        return temp\n",
    "    def __str__(self):\n",
    "        return str(self.real)+\"+\"+str(self.im)+\"i\"\n",
    "    def addkomp(self,obj):\n",
    "        a=self.real+obj.real\n",
    "        b=self.im+obj.im\n",
    "        return Bilangankompleks(a,b)\n",
    "    def __add__(self,obj):\n",
    "        a=self.real+obj.real\n",
    "        b=self.im+obj.im\n",
    "        return Bilangankompleks(a,b)\n",
    "    def __mul__(self):\n",
    "        a=a.real*b.real\n",
    "        b=(a.real*b.im)+(a.im*b.real)\n",
    "        c=a.im*b.im"
   ]
  },
  {
   "cell_type": "code",
   "execution_count": 64,
   "metadata": {
    "collapsed": false
   },
   "outputs": [
    {
     "name": "stdout",
     "output_type": "stream",
     "text": [
      "4+6i\n",
      "3+2i\n"
     ]
    },
    {
     "ename": "TypeError",
     "evalue": "__init__() takes 3 positional arguments but 4 were given",
     "output_type": "error",
     "traceback": [
      "\u001b[0;31m---------------------------------------------------------------------------\u001b[0m",
      "\u001b[0;31mTypeError\u001b[0m                                 Traceback (most recent call last)",
      "\u001b[0;32m<ipython-input-64-570a44e53fdc>\u001b[0m in \u001b[0;36m<module>\u001b[0;34m()\u001b[0m\n\u001b[1;32m      3\u001b[0m \u001b[0mprint\u001b[0m\u001b[0;34m(\u001b[0m\u001b[0ma\u001b[0m\u001b[0;34m)\u001b[0m\u001b[0;34m\u001b[0m\u001b[0m\n\u001b[1;32m      4\u001b[0m \u001b[0mprint\u001b[0m\u001b[0;34m(\u001b[0m\u001b[0mb\u001b[0m\u001b[0;34m)\u001b[0m\u001b[0;34m\u001b[0m\u001b[0m\n\u001b[0;32m----> 5\u001b[0;31m \u001b[0mdata3\u001b[0m\u001b[0;34m=\u001b[0m\u001b[0mBilangankompleks\u001b[0m\u001b[0;34m(\u001b[0m\u001b[0;36m0\u001b[0m\u001b[0;34m,\u001b[0m\u001b[0;36m0\u001b[0m\u001b[0;34m,\u001b[0m\u001b[0;36m0\u001b[0m\u001b[0;34m)\u001b[0m\u001b[0;34m\u001b[0m\u001b[0m\n\u001b[0m\u001b[1;32m      6\u001b[0m \u001b[0mdata3\u001b[0m\u001b[0;34m.\u001b[0m\u001b[0m__mul__\u001b[0m\u001b[0;34m(\u001b[0m\u001b[0ma\u001b[0m\u001b[0;34m,\u001b[0m\u001b[0mb\u001b[0m\u001b[0;34m,\u001b[0m\u001b[0mc\u001b[0m\u001b[0;34m)\u001b[0m\u001b[0;34m\u001b[0m\u001b[0m\n",
      "\u001b[0;31mTypeError\u001b[0m: __init__() takes 3 positional arguments but 4 were given"
     ]
    }
   ],
   "source": [
    "a=Bilangankompleks(4,6)\n",
    "b=Bilangankompleks(3,2)\n",
    "print(a)\n",
    "print(b)\n",
    "data3=Bilangankompleks(0,0,)\n",
    "data3.__mul__(a,b)"
   ]
  },
  {
   "cell_type": "code",
   "execution_count": 0,
   "metadata": {
    "collapsed": false
   },
   "outputs": [
   ],
   "source": [
   ]
  }
 ],
 "metadata": {
  "kernelspec": {
   "display_name": "Python 3 (old Anaconda 3)",
   "language": "python",
   "name": "anaconda3"
  },
  "language_info": {
   "codemirror_mode": {
    "name": "ipython",
    "version": 3
   },
   "file_extension": ".py",
   "mimetype": "text/x-python",
   "name": "python",
   "nbconvert_exporter": "python",
   "pygments_lexer": "ipython3",
   "version": "3.5.5"
  }
 },
 "nbformat": 4,
 "nbformat_minor": 0
}