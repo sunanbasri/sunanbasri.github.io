{
 "cells": [
  {
   "cell_type": "markdown",
   "metadata": {
    "collapsed": false
   },
   "source": [
    "stack (tumpukan)\n",
    "\n",
    "lifo (last in first out)\n",
    "\n",
    "stack() inisialisasi\n",
    "push: penambahan data\n",
    "pop: penghapusan data yng terdapat diposisi top\n",
    "isEmpty: mengecek apakah stack sudah kosong\n",
    "peek: informasi data yg terletak pada posisi top\n",
    "size: informasi jumlah data yg tedapat pada stack"
   ]
  },
  {
   "cell_type": "code",
   "execution_count": 1,
   "metadata": {
    "collapsed": false
   },
   "outputs": [
   ],
   "source": [
    "def stack():\n",
    "    s=[]\n",
    "    return(s)\n",
    "def push(s,data):\n",
    "    s.append(data)\n",
    "def pop(s):\n",
    "    data=s.pop()\n",
    "    return(data)\n",
    "def peek (s):\n",
    "    return(s[len(s)-1])\n",
    "def isEmpty(s):\n",
    "    return (s==[])\n",
    "def size (s):\n",
    "    return (len(s))"
   ]
  },
  {
   "cell_type": "code",
   "execution_count": 0,
   "metadata": {
    "collapsed": false
   },
   "outputs": [
   ],
   "source": [
    "contoh program pembalik kata"
   ]
  },
  {
   "cell_type": "code",
   "execution_count": 2,
   "metadata": {
    "collapsed": false
   },
   "outputs": [
    {
     "name": "stdout",
     "output_type": "stream",
     "text": [
      "kera\n"
     ]
    }
   ],
   "source": [
    "def balik (teks):\n",
    "    a= stack()\n",
    "    for i in range(len(teks)):\n",
    "        push(a,teks[i])\n",
    "    hasil=''\n",
    "    for i in range (len(teks)):\n",
    "        hasil=hasil+pop(a)\n",
    "    return hasil\n",
    "print(balik('arek'))"
   ]
  },
  {
   "cell_type": "raw",
   "metadata": {
    "collapsed": false
   },
   "source": [
    "ekspresi aritmatik infix, prefix dan postfix\n",
    "(A+B)xC ==> prefix= x+ABC post AB+Cx\n",
    "(A+B)x(C+D)==> pre x+AB+CD post AB+CD+x\n",
    "A+BxC ==> pre +AxBC post ABCx+\n",
    "AxB-CxD ==> pre -xABxCD post ABxCDx-\n",
    "Ax(B+C) post ABC+x\n",
    "A+BxC post ABCx+"
   ]
  }
 ],
 "metadata": {
  "kernelspec": {
   "display_name": "Python 3 (Anaconda 5)",
   "language": "python",
   "name": "anaconda5"
  }
 },
 "nbformat": 4,
 "nbformat_minor": 0
}