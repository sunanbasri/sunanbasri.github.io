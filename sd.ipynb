{
 "cells": [
  {
   "cell_type": "raw",
   "metadata": {
    "collapsed": false
   },
   "source": [
    "stack (tumpukan)\n",
    "\n",
    "lifo (last in first out)\n",
    "\n",
    "stack() inisialisasi\n",
    "push: penambahan data\n",
    "pop: penghapusan data yng terdapat diposisi top\n",
    "isEmpty: mengecek apakah stack sudah kosong\n",
    "peek: informasi data yg terletak pada posisi top\n",
    "size: informasi jumlah data yg tedapat pada stack\n",
    "\n",
    "def stack():\n",
    "    s=[]\n",
    "    return(s)\n",
    "def push(s,data):\n",
    "    s.append(data)\n",
    "def pop(s):\n",
    "    data=s.pop()\n",
    "    return(data)\n",
    "def peek (s):\n",
    "    return(s[len(s)-1])\n",
    "def isEmpty(s):\n",
    "    return (s==[])\n",
    "def size (s):\n",
    "    return (len(s))\n",
    "\n",
    "contoh program membalikkan kata:\n",
    "\n",
    "def balik (teks):\n",
    "    a= stack()\n",
    "    for i in range(len(teks)):\n",
    "        push(a,teks[i])\n",
    "    hasil=''\n",
    "    for i in range (len(teks)):\n",
    "        hasil=hasil+pop(a)\n",
    "    return hasil\n",
    "print(balik('arek'))\n",
    "\n",
    "ekspresi aritmatik infix, prefix dan postfix\n",
    "(a+b)*c ==> prefix= *+abc post ab+c*\n",
    "(a+B)*(c+d)==> pre *+ab+cd post ab+cd+*\n",
    "a+B*c==> pre +a*bc post abc*+\n",
    "a*b-c*d==> pre -*ab*cd post ab*cd*-\n",
    "a*(b+c) post abc+*\n",
    "a+b*c post abc*+"
   ]
  }
 ],
 "metadata": {
  "kernelspec": {
   "display_name": "Python 3 (Anaconda 5)",
   "language": "python",
   "name": "anaconda5"
  },
  "language_info": {
   "codemirror_mode": {
    "name": "ipython",
    "version": 3
   },
   "file_extension": ".py",
   "mimetype": "text/x-python",
   "name": "python",
   "nbconvert_exporter": "python",
   "pygments_lexer": "ipython3",
   "version": "3.6.6"
  }
 },
 "nbformat": 4,
 "nbformat_minor": 0
}